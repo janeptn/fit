{
  "nbformat": 4,
  "nbformat_minor": 0,
  "metadata": {
    "colab": {
      "name": "Scikit_learn_NV.ipynb",
      "provenance": [],
      "authorship_tag": "ABX9TyNKYhAet1AMhkvb35LSzf5Z"
    },
    "kernelspec": {
      "name": "python3",
      "display_name": "Python 3"
    },
    "language_info": {
      "name": "python"
    }
  },
  "cells": [
    {
      "cell_type": "markdown",
      "metadata": {
        "id": "shmBtRFMIBsG"
      },
      "source": [
        "**Bibliotecas utilizadas**"
      ]
    },
    {
      "cell_type": "code",
      "metadata": {
        "id": "q2NjoHJ4FS_Z"
      },
      "source": [
        "import pandas as pd\n",
        "from sklearn.model_selection import train_test_split\n",
        "from sklearn.metrics import classification_report\n",
        "from sklearn.naive_bayes import GaussianNB #Naive Bayes"
      ],
      "execution_count": 1,
      "outputs": []
    },
    {
      "cell_type": "markdown",
      "metadata": {
        "id": "4puHX8ygIGPO"
      },
      "source": [
        "**Criando Dataframe - COVID, FLU, COLD Symptoms**"
      ]
    },
    {
      "cell_type": "code",
      "metadata": {
        "id": "dXKj4JCMFWVg"
      },
      "source": [
        "URL = 'https://janeawsdata.s3.us-east-2.amazonaws.com/large_data.csv'\n",
        "df = pd.read_csv(URL)"
      ],
      "execution_count": 2,
      "outputs": []
    },
    {
      "cell_type": "markdown",
      "metadata": {
        "id": "3oj-piBvIMQj"
      },
      "source": [
        "**Definindo X com conjunto de features e y com o target**"
      ]
    },
    {
      "cell_type": "code",
      "metadata": {
        "id": "FPvdBx-SFX5A"
      },
      "source": [
        "X = df.drop('TYPE', axis=1)\n",
        "y = df.TYPE"
      ],
      "execution_count": 3,
      "outputs": []
    },
    {
      "cell_type": "markdown",
      "metadata": {
        "id": "021tqtYnIVBc"
      },
      "source": [
        "**Utilizando a função train_test_split para dividir os dados em 75/25 % treino e teste**"
      ]
    },
    {
      "cell_type": "code",
      "metadata": {
        "id": "9BHvLd1bFaaK"
      },
      "source": [
        "X_train, X_test, y_train, y_test = train_test_split(X, y, random_state=0)"
      ],
      "execution_count": 4,
      "outputs": []
    },
    {
      "cell_type": "markdown",
      "metadata": {
        "id": "TW0S_2opIakj"
      },
      "source": [
        "**Utilizando o classificador Naive Bayes e realizando o treinamento**"
      ]
    },
    {
      "cell_type": "code",
      "metadata": {
        "id": "20K02EV6Fb-R"
      },
      "source": [
        "gnb = GaussianNB()\n",
        "gnb.fit(X_train, y_train)"
      ],
      "execution_count": null,
      "outputs": []
    },
    {
      "cell_type": "code",
      "metadata": {
        "id": "MEtLeVftFowS"
      },
      "source": [
        "y_pred = gnb.predict(X_test)"
      ],
      "execution_count": 6,
      "outputs": []
    },
    {
      "cell_type": "markdown",
      "metadata": {
        "id": "gCvrL906JS8h"
      },
      "source": [
        "**Verificando a acurácia do classificador**"
      ]
    },
    {
      "cell_type": "code",
      "metadata": {
        "colab": {
          "base_uri": "https://localhost:8080/"
        },
        "id": "j22MJiIkFvYN",
        "outputId": "de5d90c4-23b3-4169-df09-720874f1cb36"
      },
      "source": [
        "gnb.score(X_test,y_test)"
      ],
      "execution_count": 7,
      "outputs": [
        {
          "output_type": "execute_result",
          "data": {
            "text/plain": [
              "0.9334173114990103"
            ]
          },
          "metadata": {},
          "execution_count": 7
        }
      ]
    },
    {
      "cell_type": "code",
      "metadata": {
        "colab": {
          "base_uri": "https://localhost:8080/"
        },
        "id": "bT8yeN0mGmAY",
        "outputId": "9fd3252c-ee32-4eda-adea-d9df1114c035"
      },
      "source": [
        "print(classification_report(y_test, y_pred, df.TYPE.unique()))"
      ],
      "execution_count": 8,
      "outputs": [
        {
          "output_type": "stream",
          "name": "stdout",
          "text": [
            "              precision    recall  f1-score   support\n",
            "\n",
            "     ALLERGY       1.00      0.97      0.98      4110\n",
            "        COLD       0.48      1.00      0.65       239\n",
            "       COVID       0.50      0.97      0.66       507\n",
            "         FLU       1.00      0.91      0.95      6258\n",
            "\n",
            "    accuracy                           0.93     11114\n",
            "   macro avg       0.75      0.96      0.81     11114\n",
            "weighted avg       0.97      0.93      0.94     11114\n",
            "\n"
          ]
        }
      ]
    },
    {
      "cell_type": "markdown",
      "metadata": {
        "id": "rPGND3YmIAZV"
      },
      "source": [
        ""
      ]
    }
  ]
}