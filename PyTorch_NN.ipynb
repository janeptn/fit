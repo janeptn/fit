{
  "nbformat": 4,
  "nbformat_minor": 0,
  "metadata": {
    "colab": {
      "name": "PyTorch-NN.ipynb",
      "provenance": [],
      "authorship_tag": "ABX9TyOAW30wqu29OtqB085QEnlG"
    },
    "kernelspec": {
      "name": "python3",
      "display_name": "Python 3"
    },
    "language_info": {
      "name": "python"
    }
  },
  "cells": [
    {
      "cell_type": "markdown",
      "metadata": {
        "id": "6YP_BDDQNcEz"
      },
      "source": [
        "**Bibliotecas utilizadas**"
      ]
    },
    {
      "cell_type": "code",
      "metadata": {
        "id": "jRIZF_PQ2BDc"
      },
      "source": [
        "import torch\n",
        "import torch.nn as nn\n",
        "import torch.nn.functional as F\n",
        "import pandas as pd\n",
        "from sklearn.model_selection import train_test_split\n",
        "from sklearn.metrics import classification_report"
      ],
      "execution_count": 74,
      "outputs": []
    },
    {
      "cell_type": "markdown",
      "metadata": {
        "id": "QLEkWonENhP3"
      },
      "source": [
        "**Criando Dataframe - COVID, FLU, COLD Symptoms**"
      ]
    },
    {
      "cell_type": "code",
      "metadata": {
        "id": "MzOnGlyw7eSS"
      },
      "source": [
        "URL = 'https://janeawsdata.s3.us-east-2.amazonaws.com/large_data.csv'\n",
        "df = pd.read_csv(URL)"
      ],
      "execution_count": 75,
      "outputs": []
    },
    {
      "cell_type": "markdown",
      "metadata": {
        "id": "hFEEMWWRNnSV"
      },
      "source": [
        "**Mapeando as classes para valores numéricos**\n"
      ]
    },
    {
      "cell_type": "code",
      "metadata": {
        "id": "AnY-Tm0x7pBE"
      },
      "source": [
        "mappings = {\n",
        "   'ALLERGY': 0,\n",
        "   'COLD': 1,\n",
        "   'COVID': 2,\n",
        "   'FLU': 3\n",
        "}\n",
        "df['TYPE'] = df['TYPE'].apply(lambda x: mappings[x])"
      ],
      "execution_count": 76,
      "outputs": []
    },
    {
      "cell_type": "markdown",
      "metadata": {
        "id": "HPGyEM2fN7Kz"
      },
      "source": [
        "**Utilizando a função train_test_split para dividir os dados em 80/20 % treino e teste**"
      ]
    },
    {
      "cell_type": "code",
      "metadata": {
        "id": "a2SnAcFv2HP9"
      },
      "source": [
        "X = df.drop('TYPE', axis=1).values\n",
        "y = df['TYPE'].values\n",
        "X_train, X_test, y_train, y_test = train_test_split(X, y, test_size=0.2)\n",
        "\n",
        "# Convertendo os dados para PyTorch tensors\n",
        "X_train = torch.FloatTensor(X_train)\n",
        "X_test = torch.FloatTensor(X_test)\n",
        "y_train = torch.LongTensor(y_train)\n",
        "y_test = torch.LongTensor(y_test)\n"
      ],
      "execution_count": 77,
      "outputs": []
    },
    {
      "cell_type": "markdown",
      "metadata": {
        "id": "hIMpd4HUOWWE"
      },
      "source": [
        "**Definindo a Rede Neural**"
      ]
    },
    {
      "cell_type": "code",
      "metadata": {
        "id": "udWAMf_u2Kru"
      },
      "source": [
        "class ANN(nn.Module):\n",
        "   def __init__(self):\n",
        "       super().__init__()\n",
        "       # 2 camadas escondidas, número de neurônios das camadas foi escolhido de forma arbitrária\n",
        "       self.fc1 = nn.Linear(in_features=20, out_features=40) #Entrada = 20 (features em x)\n",
        "       self.fc2 = nn.Linear(in_features=40, out_features=20)\n",
        "       self.output = nn.Linear(in_features=20, out_features=4) # Saída = 4 (classes)\n",
        " \n",
        "   # função forward que será responsável pela propagação da rede\n",
        "   def forward(self, x):\n",
        "     x = F.relu(self.fc1(x)) # função relu para retornar sempre valores positivos\n",
        "     x = F.relu(self.fc2(x))\n",
        "     x = self.output(x)\n",
        "     return x"
      ],
      "execution_count": 78,
      "outputs": []
    },
    {
      "cell_type": "markdown",
      "metadata": {
        "id": "gBNL_WaRRqBL"
      },
      "source": [
        "**Instânciando o modelo**"
      ]
    },
    {
      "cell_type": "code",
      "metadata": {
        "id": "MhuAFM8s2RG3"
      },
      "source": [
        "model = ANN()"
      ],
      "execution_count": 79,
      "outputs": []
    },
    {
      "cell_type": "code",
      "metadata": {
        "colab": {
          "base_uri": "https://localhost:8080/"
        },
        "id": "QECsce8rU5Oc",
        "outputId": "84b9691d-528b-4c6c-c6e4-1100bac9142e"
      },
      "source": [
        "model.output"
      ],
      "execution_count": 80,
      "outputs": [
        {
          "output_type": "execute_result",
          "data": {
            "text/plain": [
              "Linear(in_features=20, out_features=4, bias=True)"
            ]
          },
          "metadata": {},
          "execution_count": 80
        }
      ]
    },
    {
      "cell_type": "markdown",
      "metadata": {
        "id": "o7vevwftR_ki"
      },
      "source": [
        "**Critério - CrossEntropyLoss e Algoritmo de otimização - Adam**\n",
        "\n"
      ]
    },
    {
      "cell_type": "code",
      "metadata": {
        "id": "jRCpya6H2Rn9"
      },
      "source": [
        "criterion = nn.CrossEntropyLoss()\n",
        "optimizer = torch.optim.Adam(model.parameters(), lr=0.01) #taxa de aprendizagem de 0.01"
      ],
      "execution_count": 81,
      "outputs": []
    },
    {
      "cell_type": "markdown",
      "metadata": {
        "id": "rAw74DOdSby4"
      },
      "source": [
        "**Treinamento de modelo - 100 épocas**"
      ]
    },
    {
      "cell_type": "code",
      "metadata": {
        "colab": {
          "base_uri": "https://localhost:8080/"
        },
        "id": "nS3VgTXs2Tfq",
        "outputId": "50b6b487-e10b-42fb-dd03-a6ce82acff51"
      },
      "source": [
        "epochs = 100 \n",
        "loss_arr = []\n",
        "for i in range(epochs):\n",
        "   y_hat = model.forward(X_train)\n",
        "   loss = criterion(y_hat, y_train)\n",
        "   loss_arr.append(loss)\n",
        " \n",
        "   if i % 10 == 0:\n",
        "       print(f'Epocas: {i} Perda: {loss}')\n",
        " \n",
        "   optimizer.zero_grad()\n",
        "   loss.backward()\n",
        "   optimizer.step()"
      ],
      "execution_count": 82,
      "outputs": [
        {
          "output_type": "stream",
          "name": "stdout",
          "text": [
            "Epocas: 0 Perda: 1.4522038698196411\n",
            "Epocas: 10 Perda: 0.4899253249168396\n",
            "Epocas: 20 Perda: 0.2827320694923401\n",
            "Epocas: 30 Perda: 0.2286471277475357\n",
            "Epocas: 40 Perda: 0.19656157493591309\n",
            "Epocas: 50 Perda: 0.17320752143859863\n",
            "Epocas: 60 Perda: 0.15374161303043365\n",
            "Epocas: 70 Perda: 0.13416050374507904\n",
            "Epocas: 80 Perda: 0.11596114188432693\n",
            "Epocas: 90 Perda: 0.10626749694347382\n"
          ]
        }
      ]
    },
    {
      "cell_type": "markdown",
      "metadata": {
        "id": "o9YpJOg7St3e"
      },
      "source": [
        "**Avaliando o modelo**"
      ]
    },
    {
      "cell_type": "code",
      "metadata": {
        "id": "TgRPwnAg2ZoW"
      },
      "source": [
        "preds = []\n",
        "with torch.no_grad():\n",
        "   for val in X_test:\n",
        "       y_hat = model.forward(val)\n",
        "       preds.append(y_hat.argmax().item())"
      ],
      "execution_count": 83,
      "outputs": []
    },
    {
      "cell_type": "code",
      "metadata": {
        "id": "gmKZPkkI2bdE"
      },
      "source": [
        "dfcorrecao = pd.DataFrame({'Y': y_test, 'YHat': preds})\n",
        "dfcorrecao['Correct'] = [1 if corr == pred else 0 for corr, pred in zip(dfcorrecao['Y'], dfcorrecao['YHat'])] #compara o valor de Y com o YHat valor estimado"
      ],
      "execution_count": 84,
      "outputs": []
    },
    {
      "cell_type": "code",
      "metadata": {
        "id": "fklSUO2LKFbt",
        "outputId": "bd8548ed-27ce-4351-97a7-bf45ae152c5d",
        "colab": {
          "base_uri": "https://localhost:8080/"
        }
      },
      "source": [
        "print(classification_report(y_test, preds, df.TYPE.unique()))"
      ],
      "execution_count": 85,
      "outputs": [
        {
          "output_type": "stream",
          "name": "stdout",
          "text": [
            "              precision    recall  f1-score   support\n",
            "\n",
            "           0       0.98      0.98      0.98      3287\n",
            "           1       0.54      0.66      0.59       210\n",
            "           2       0.48      0.34      0.40       395\n",
            "           3       0.94      0.96      0.95      4999\n",
            "\n",
            "    accuracy                           0.93      8891\n",
            "   macro avg       0.74      0.73      0.73      8891\n",
            "weighted avg       0.93      0.93      0.93      8891\n",
            "\n"
          ]
        }
      ]
    }
  ]
}