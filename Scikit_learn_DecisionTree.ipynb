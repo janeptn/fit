{
  "nbformat": 4,
  "nbformat_minor": 0,
  "metadata": {
    "colab": {
      "name": "Scikit_learn-DecisionTree.ipynb",
      "provenance": [],
      "authorship_tag": "ABX9TyO/Gudex/qlDYTCx8DIz0sS"
    },
    "kernelspec": {
      "name": "python3",
      "display_name": "Python 3"
    },
    "language_info": {
      "name": "python"
    }
  },
  "cells": [
    {
      "cell_type": "markdown",
      "metadata": {
        "id": "3xIByB7bYOnf"
      },
      "source": [
        "**Bibliotecas utilizadas**"
      ]
    },
    {
      "cell_type": "code",
      "metadata": {
        "id": "aBDmqOI7W8gI"
      },
      "source": [
        "import pandas as pd\n",
        "from sklearn import tree\n",
        "from sklearn.tree import DecisionTreeClassifier #Árvores de Decisão\n",
        "from sklearn.model_selection import train_test_split \n",
        "from sklearn.metrics import classification_report"
      ],
      "execution_count": 10,
      "outputs": []
    },
    {
      "cell_type": "markdown",
      "metadata": {
        "id": "fKW8T_LoYSVA"
      },
      "source": [
        "**Criando Dataframe - COVID, FLU, COLD Symptoms**"
      ]
    },
    {
      "cell_type": "code",
      "metadata": {
        "id": "ecnqUSDZXLU6"
      },
      "source": [
        "URL = 'https://janeawsdata.s3.us-east-2.amazonaws.com/large_data.csv'\n",
        "df = pd.read_csv(URL)"
      ],
      "execution_count": 11,
      "outputs": []
    },
    {
      "cell_type": "markdown",
      "metadata": {
        "id": "pO-KWzM3YWZy"
      },
      "source": [
        "**Definindo X com conjunto de features e y com o target**"
      ]
    },
    {
      "cell_type": "code",
      "metadata": {
        "id": "rtzy_pIDXNni"
      },
      "source": [
        "X = df.drop('TYPE', axis=1)\n",
        "y = df.TYPE"
      ],
      "execution_count": 12,
      "outputs": []
    },
    {
      "cell_type": "markdown",
      "metadata": {
        "id": "IiXMhOI9Yexw"
      },
      "source": [
        "**Utilizando a função train_test_split para dividir os dados em 75/25 % treino e teste**"
      ]
    },
    {
      "cell_type": "code",
      "metadata": {
        "id": "pCKou-mAXSdL"
      },
      "source": [
        "X_train, X_test, y_train, y_test = train_test_split(X, y, random_state=0)"
      ],
      "execution_count": 13,
      "outputs": []
    },
    {
      "cell_type": "markdown",
      "metadata": {
        "id": "tQq3fp_QZky0"
      },
      "source": [
        "**Treinando o classificador DecisionTree**\n",
        "\n"
      ]
    },
    {
      "cell_type": "code",
      "metadata": {
        "id": "ubkUmgnMXXx9"
      },
      "source": [
        "dtc = DecisionTreeClassifier(max_depth = 15) # profundidade máxima da árvore apresentou melhor acurácia\n",
        "\n",
        "dtc = dtc.fit(X_train,y_train)"
      ],
      "execution_count": 14,
      "outputs": []
    },
    {
      "cell_type": "code",
      "metadata": {
        "id": "-qIvcFmcX-eW"
      },
      "source": [
        "y_pred = dtc.predict(X_test)"
      ],
      "execution_count": 15,
      "outputs": []
    },
    {
      "cell_type": "markdown",
      "metadata": {
        "id": "6xqr4x_CaOes"
      },
      "source": [
        "**Verificando a acurácia do classificador**"
      ]
    },
    {
      "cell_type": "code",
      "metadata": {
        "colab": {
          "base_uri": "https://localhost:8080/"
        },
        "id": "B8nFg-5MXq1v",
        "outputId": "3eda751d-cf15-406b-d559-2e30a4e46eee"
      },
      "source": [
        "dtc.score(X_test,y_test)"
      ],
      "execution_count": 16,
      "outputs": [
        {
          "output_type": "execute_result",
          "data": {
            "text/plain": [
              "0.918301241677164"
            ]
          },
          "metadata": {},
          "execution_count": 16
        }
      ]
    },
    {
      "cell_type": "code",
      "metadata": {
        "colab": {
          "base_uri": "https://localhost:8080/"
        },
        "id": "P_h89hYYf3jC",
        "outputId": "eed37901-f395-43f8-ca3f-12fae951bf3d"
      },
      "source": [
        "print(classification_report(y_test, y_pred, df.TYPE.unique()))"
      ],
      "execution_count": 17,
      "outputs": [
        {
          "output_type": "stream",
          "name": "stdout",
          "text": [
            "              precision    recall  f1-score   support\n",
            "\n",
            "     ALLERGY       0.98      0.98      0.98      4110\n",
            "        COLD       0.48      0.59      0.53       239\n",
            "       COVID       0.38      0.42      0.40       507\n",
            "         FLU       0.95      0.93      0.94      6258\n",
            "\n",
            "    accuracy                           0.92     11114\n",
            "   macro avg       0.70      0.73      0.71     11114\n",
            "weighted avg       0.92      0.92      0.92     11114\n",
            "\n"
          ]
        }
      ]
    }
  ]
}