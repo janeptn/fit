{
  "nbformat": 4,
  "nbformat_minor": 0,
  "metadata": {
    "colab": {
      "name": "Scikit-learn - KNN.ipynb",
      "provenance": [],
      "authorship_tag": "ABX9TyP3CotNq50B8kqRX6sHFzoI"
    },
    "kernelspec": {
      "name": "python3",
      "display_name": "Python 3"
    },
    "language_info": {
      "name": "python"
    }
  },
  "cells": [
    {
      "cell_type": "markdown",
      "metadata": {
        "id": "Yf922t7Q4CPq"
      },
      "source": [
        "**Bibliotecas utilizadas**\n"
      ]
    },
    {
      "cell_type": "code",
      "metadata": {
        "id": "pk1WoKqHhwEs"
      },
      "source": [
        "import pandas as pd\n",
        "from sklearn.model_selection import train_test_split\n",
        "from sklearn.neighbors import KNeighborsClassifier\n",
        "from sklearn.metrics import classification_report\n"
      ],
      "execution_count": 41,
      "outputs": []
    },
    {
      "cell_type": "markdown",
      "metadata": {
        "id": "hlhSQptz4N8r"
      },
      "source": [
        "**Criando Dataframe - COVID, FLU, COLD Symptoms**"
      ]
    },
    {
      "cell_type": "code",
      "metadata": {
        "id": "_ubMuIpFklf3"
      },
      "source": [
        "URL = 'https://janeawsdata.s3.us-east-2.amazonaws.com/large_data.csv'\n",
        "df = pd.read_csv(URL)"
      ],
      "execution_count": 42,
      "outputs": []
    },
    {
      "cell_type": "markdown",
      "metadata": {
        "id": "Xz7XNJws4pPe"
      },
      "source": [
        "**Classes**"
      ]
    },
    {
      "cell_type": "code",
      "metadata": {
        "colab": {
          "base_uri": "https://localhost:8080/"
        },
        "id": "S-LIeLbEvsy0",
        "outputId": "a0bc0e33-4612-4227-9bcc-bdd73224aeb6"
      },
      "source": [
        "df.TYPE.unique()"
      ],
      "execution_count": 43,
      "outputs": [
        {
          "output_type": "execute_result",
          "data": {
            "text/plain": [
              "array(['ALLERGY', 'COLD', 'COVID', 'FLU'], dtype=object)"
            ]
          },
          "metadata": {},
          "execution_count": 43
        }
      ]
    },
    {
      "cell_type": "markdown",
      "metadata": {
        "id": "RKr4JP-w40UJ"
      },
      "source": [
        "**Definindo X com conjunto de features e y com o target**"
      ]
    },
    {
      "cell_type": "code",
      "metadata": {
        "id": "lHZ7PucIzhH4"
      },
      "source": [
        "X = df.drop('TYPE', axis=1)\n",
        "y = df.TYPE"
      ],
      "execution_count": 44,
      "outputs": []
    },
    {
      "cell_type": "markdown",
      "metadata": {
        "id": "brBE3b2c5iyR"
      },
      "source": [
        "**Utilizando a função train_test_split para dividir os dados em 75/25 % treino e teste**"
      ]
    },
    {
      "cell_type": "code",
      "metadata": {
        "id": "wFpDLLyfz9fw"
      },
      "source": [
        "X_train, X_test, y_train, y_test = train_test_split(X, y, random_state=0)"
      ],
      "execution_count": 45,
      "outputs": []
    },
    {
      "cell_type": "markdown",
      "metadata": {
        "id": "NbvkNFJR6M7f"
      },
      "source": [
        "**Utilizando o classificador KNN com parâmetro número de vizinhos, distância euclideana e métrica Minkowski**\n"
      ]
    },
    {
      "cell_type": "code",
      "metadata": {
        "id": "haRaUiVQ0tqt"
      },
      "source": [
        "knn = KNeighborsClassifier(n_neighbors = 10, p=2) #número de vizinhos = 10, p = 2 distância euclideana"
      ],
      "execution_count": 46,
      "outputs": []
    },
    {
      "cell_type": "markdown",
      "metadata": {
        "id": "mejsZsQt521d"
      },
      "source": [
        "**Treinando o classificador com os dados do conjunto de treinamento em X_train e os rótulos em y_train**"
      ]
    },
    {
      "cell_type": "code",
      "metadata": {
        "colab": {
          "base_uri": "https://localhost:8080/"
        },
        "id": "gvsbXls-0vIy",
        "outputId": "66ca59ee-df8b-4eee-c6c3-7bba608186b2"
      },
      "source": [
        "knn.fit(X_train,y_train)"
      ],
      "execution_count": 47,
      "outputs": [
        {
          "output_type": "execute_result",
          "data": {
            "text/plain": [
              "KNeighborsClassifier(algorithm='auto', leaf_size=30, metric='minkowski',\n",
              "                     metric_params=None, n_jobs=None, n_neighbors=10, p=2,\n",
              "                     weights='uniform')"
            ]
          },
          "metadata": {},
          "execution_count": 47
        }
      ]
    },
    {
      "cell_type": "markdown",
      "metadata": {
        "id": "-jHgQLf_8pJ0"
      },
      "source": [
        "**Verificando a acurácia do classificador**"
      ]
    },
    {
      "cell_type": "code",
      "metadata": {
        "colab": {
          "base_uri": "https://localhost:8080/"
        },
        "id": "KTPPmBOA0yGu",
        "outputId": "73110f3a-1771-4afd-ff56-e50776c40ea1"
      },
      "source": [
        "knn.score(X_test,y_test)"
      ],
      "execution_count": 48,
      "outputs": [
        {
          "output_type": "execute_result",
          "data": {
            "text/plain": [
              "0.916591686161598"
            ]
          },
          "metadata": {},
          "execution_count": 48
        }
      ]
    },
    {
      "cell_type": "code",
      "metadata": {
        "id": "4i2y2OpLBU3d"
      },
      "source": [
        "y_pred = knn.predict(X_test)"
      ],
      "execution_count": 49,
      "outputs": []
    },
    {
      "cell_type": "code",
      "metadata": {
        "colab": {
          "base_uri": "https://localhost:8080/"
        },
        "id": "mnzmDkIZBQU7",
        "outputId": "298feda2-cc34-43eb-a009-765993b2b549"
      },
      "source": [
        "print(classification_report(y_test, y_pred, df.TYPE.unique()))"
      ],
      "execution_count": 50,
      "outputs": [
        {
          "output_type": "stream",
          "name": "stdout",
          "text": [
            "              precision    recall  f1-score   support\n",
            "\n",
            "     ALLERGY       0.97      0.99      0.98      4110\n",
            "        COLD       0.50      0.38      0.43       239\n",
            "       COVID       0.36      0.33      0.34       507\n",
            "         FLU       0.94      0.94      0.94      6258\n",
            "\n",
            "    accuracy                           0.92     11114\n",
            "   macro avg       0.69      0.66      0.67     11114\n",
            "weighted avg       0.91      0.92      0.91     11114\n",
            "\n"
          ]
        }
      ]
    },
    {
      "cell_type": "markdown",
      "metadata": {
        "id": "UryRsnZv9D3l"
      },
      "source": [
        "**Testando o classificador**"
      ]
    },
    {
      "cell_type": "code",
      "metadata": {
        "id": "mQaUNAjM1YYt"
      },
      "source": [
        "doenca_prediction = knn.predict([[1,1,1,1,0,0,1,1,0,1,1,0,0,0,0,0,0,0,0,0]])\n"
      ],
      "execution_count": null,
      "outputs": []
    },
    {
      "cell_type": "code",
      "metadata": {
        "colab": {
          "base_uri": "https://localhost:8080/"
        },
        "id": "5wuehTCp2Fqc",
        "outputId": "5a6f998a-f22c-430d-9ae1-51cac8c8680e"
      },
      "source": [
        "doenca_prediction"
      ],
      "execution_count": null,
      "outputs": [
        {
          "output_type": "execute_result",
          "data": {
            "text/plain": [
              "array(['COVID'], dtype=object)"
            ]
          },
          "metadata": {},
          "execution_count": 15
        }
      ]
    }
  ]
}