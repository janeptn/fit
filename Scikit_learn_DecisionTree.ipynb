{
  "nbformat": 4,
  "nbformat_minor": 0,
  "metadata": {
    "colab": {
      "name": "Scikit_learn-DecisionTree.ipynb",
      "provenance": [],
      "authorship_tag": "ABX9TyMOkLWsnp7gzzmN1ngAreAf"
    },
    "kernelspec": {
      "name": "python3",
      "display_name": "Python 3"
    },
    "language_info": {
      "name": "python"
    }
  },
  "cells": [
    {
      "cell_type": "markdown",
      "metadata": {
        "id": "3xIByB7bYOnf"
      },
      "source": [
        "**Bibliotecas utilizadas**"
      ]
    },
    {
      "cell_type": "code",
      "metadata": {
        "id": "aBDmqOI7W8gI"
      },
      "source": [
        "import pandas as pd\n",
        "from sklearn.tree import DecisionTreeClassifier \n",
        "from sklearn.model_selection import train_test_split \n",
        "from sklearn import metrics \n",
        "from sklearn import tree\n",
        "import matplotlib.pyplot as plt"
      ],
      "execution_count": 11,
      "outputs": []
    },
    {
      "cell_type": "markdown",
      "metadata": {
        "id": "fKW8T_LoYSVA"
      },
      "source": [
        "**Criando Dataframe da base - COVID, FLU, COLD Symptoms**"
      ]
    },
    {
      "cell_type": "code",
      "metadata": {
        "id": "ecnqUSDZXLU6"
      },
      "source": [
        "URL = 'https://janeawsdata.s3.us-east-2.amazonaws.com/large_data.csv'\n",
        "df = pd.read_csv(URL)\n",
        "df.head()"
      ],
      "execution_count": null,
      "outputs": []
    },
    {
      "cell_type": "markdown",
      "metadata": {
        "id": "pO-KWzM3YWZy"
      },
      "source": [
        "**Definindo x com conjunto de features e y com o target**"
      ]
    },
    {
      "cell_type": "code",
      "metadata": {
        "id": "rtzy_pIDXNni"
      },
      "source": [
        "x = df.drop('TYPE', axis=1)\n",
        "y = df.TYPE"
      ],
      "execution_count": 13,
      "outputs": []
    },
    {
      "cell_type": "markdown",
      "metadata": {
        "id": "IiXMhOI9Yexw"
      },
      "source": [
        "**Utilizando a função train_test_split para dividir os dados em 75/25 % treino e teste**"
      ]
    },
    {
      "cell_type": "code",
      "metadata": {
        "id": "pCKou-mAXSdL"
      },
      "source": [
        "x_train, x_test, y_train, y_test = train_test_split(x, y, random_state=0)"
      ],
      "execution_count": 14,
      "outputs": []
    },
    {
      "cell_type": "markdown",
      "metadata": {
        "id": "tQq3fp_QZky0"
      },
      "source": [
        "**Treinando o classificador DecisionTree**"
      ]
    },
    {
      "cell_type": "code",
      "metadata": {
        "id": "ubkUmgnMXXx9"
      },
      "source": [
        "dtc = DecisionTreeClassifier()\n",
        "\n",
        "dtc = dtc.fit(x_train,y_train)"
      ],
      "execution_count": 15,
      "outputs": []
    },
    {
      "cell_type": "code",
      "metadata": {
        "id": "-qIvcFmcX-eW"
      },
      "source": [
        "y_pred = dtc.predict(x_test)"
      ],
      "execution_count": 16,
      "outputs": []
    },
    {
      "cell_type": "markdown",
      "metadata": {
        "id": "6xqr4x_CaOes"
      },
      "source": [
        "**Verificando a acurácia do classificador**"
      ]
    },
    {
      "cell_type": "code",
      "metadata": {
        "colab": {
          "base_uri": "https://localhost:8080/"
        },
        "id": "B8nFg-5MXq1v",
        "outputId": "fe7de1fd-a369-4ff4-d8a6-074c374e3a5f"
      },
      "source": [
        "dtc.score(x_test,y_test)"
      ],
      "execution_count": 17,
      "outputs": [
        {
          "output_type": "execute_result",
          "data": {
            "text/plain": [
              "0.8880691020334713"
            ]
          },
          "metadata": {},
          "execution_count": 17
        }
      ]
    },
    {
      "cell_type": "markdown",
      "metadata": {
        "id": "Qh4SSUO0ayIa"
      },
      "source": [
        "**Testando o classificador**"
      ]
    },
    {
      "cell_type": "code",
      "metadata": {
        "colab": {
          "base_uri": "https://localhost:8080/"
        },
        "id": "q-yUittQaoZg",
        "outputId": "e4c3ba1b-37b8-4a5c-ee47-f2da86abb383"
      },
      "source": [
        "doenca_prediction = dtc.predict([[1,1,1,1,0,0,1,1,0,1,1,0,0,0,0,0,0,0,0,0]])\n",
        "\n",
        "doenca_prediction"
      ],
      "execution_count": 19,
      "outputs": [
        {
          "output_type": "execute_result",
          "data": {
            "text/plain": [
              "array(['COVID'], dtype=object)"
            ]
          },
          "metadata": {},
          "execution_count": 19
        }
      ]
    }
  ]
}