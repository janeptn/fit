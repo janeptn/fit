{
  "nbformat": 4,
  "nbformat_minor": 0,
  "metadata": {
    "colab": {
      "name": "Scikit_learn_EnsembleVoting.ipynb",
      "provenance": [],
      "authorship_tag": "ABX9TyMpHFGRxcERoOZkQNdEBgy6"
    },
    "kernelspec": {
      "name": "python3",
      "display_name": "Python 3"
    },
    "language_info": {
      "name": "python"
    }
  },
  "cells": [
    {
      "cell_type": "markdown",
      "metadata": {
        "id": "nPqpjg522rCW"
      },
      "source": [
        "**Ensemble VotingClassifier**"
      ]
    },
    {
      "cell_type": "code",
      "metadata": {
        "id": "WsMDqgV381et"
      },
      "source": [
        "from sklearn.model_selection import train_test_split\n",
        "from sklearn.ensemble import VotingClassifier\n",
        "from sklearn.neighbors import KNeighborsClassifier\n",
        "from sklearn.naive_bayes import GaussianNB\n",
        "from sklearn.tree import DecisionTreeClassifier \n",
        "from sklearn.metrics import classification_report\n",
        "import pandas as pd\n",
        "\n",
        "import imblearn\n",
        "from imblearn.under_sampling import RandomUnderSampler"
      ],
      "execution_count": 90,
      "outputs": []
    },
    {
      "cell_type": "code",
      "metadata": {
        "id": "i6UI02AY-KNY"
      },
      "source": [
        "# dataset - divisão em conjunto de treino e teste \n",
        "URL = 'https://janeawsdata.s3.us-east-2.amazonaws.com/large_data.csv'\n",
        "df = pd.read_csv(URL)\n",
        "\n",
        "X = df.drop('TYPE', axis=1)\n",
        "y = df.TYPE\n",
        "\n",
        "X_train, X_test, y_train, y_test = train_test_split(X, y, random_state=0)"
      ],
      "execution_count": 91,
      "outputs": []
    },
    {
      "cell_type": "markdown",
      "metadata": {
        "id": "VzaZU-hp3C3p"
      },
      "source": [
        "**Ensemble usando os métodos de classificação: Árvores de Decisão, KNN e Naive Bayes**"
      ]
    },
    {
      "cell_type": "code",
      "metadata": {
        "id": "tFaByI29-Eb5"
      },
      "source": [
        "model1 = GaussianNB()\n",
        "model2 = DecisionTreeClassifier(max_depth = 15)\n",
        "model3 = KNeighborsClassifier(n_neighbors = 5, p=2)\n",
        "model = VotingClassifier(estimators=[\n",
        "                                     ('nb', model1), \n",
        "                                     ('dt', model2),\n",
        "                                     ('knn', model3)],\n",
        "                                     voting='hard') #o parâmetro hard apresentou melhores resultado do que \"soft\""
      ],
      "execution_count": 92,
      "outputs": []
    },
    {
      "cell_type": "markdown",
      "metadata": {
        "id": "7n80OFFp6LuU"
      },
      "source": [
        "**TESTE 1: Treinando o modelo utilizando o conjunto de treino com as [classes desbalanceadas](https://github.com/janeptn/fit/blob/main/Dataset_Info.ipynb)**"
      ]
    },
    {
      "cell_type": "code",
      "metadata": {
        "colab": {
          "base_uri": "https://localhost:8080/"
        },
        "id": "x9siWZaB-Hqa",
        "outputId": "53f119a6-0420-4c89-c38b-7dfc672fff04"
      },
      "source": [
        "model.fit(X_train,y_train)\n",
        "y_pred = model.predict(X_test)\n",
        "print(classification_report(y_test, y_pred, df.TYPE.unique())) #avaliação"
      ],
      "execution_count": 93,
      "outputs": [
        {
          "output_type": "stream",
          "name": "stdout",
          "text": [
            "              precision    recall  f1-score   support\n",
            "\n",
            "     ALLERGY       0.98      0.97      0.98      4110\n",
            "        COLD       0.46      0.67      0.55       239\n",
            "       COVID       0.39      0.51      0.44       507\n",
            "         FLU       0.96      0.92      0.94      6258\n",
            "\n",
            "    accuracy                           0.92     11114\n",
            "   macro avg       0.70      0.77      0.73     11114\n",
            "weighted avg       0.93      0.92      0.92     11114\n",
            "\n"
          ]
        }
      ]
    },
    {
      "cell_type": "markdown",
      "metadata": {
        "id": "0wCcpWYD7XTH"
      },
      "source": [
        "**TESTE 2: Treinando o modelo e aplicando a abordagem Sampling para lidar com as [classes desabalanceadas](https://github.com/janeptn/fit/blob/main/Dataset_Info.ipynb)**"
      ]
    },
    {
      "cell_type": "code",
      "metadata": {
        "colab": {
          "base_uri": "https://localhost:8080/"
        },
        "id": "ah7Fw6qH4Ujr",
        "outputId": "acd3d677-c8ca-432a-d201-83b865f70ad9"
      },
      "source": [
        "# técnica under-sampling\n",
        "rus = RandomUnderSampler()\n",
        "X_res, y_res = rus.fit_sample(X_train, y_train)\n",
        "model.fit(X_res, y_res)\n",
        "y_pred = model.predict(X_test)\n",
        "\n",
        "print(classification_report(y_test, y_pred, df.TYPE.unique())) #avaliacao"
      ],
      "execution_count": 94,
      "outputs": [
        {
          "output_type": "stream",
          "name": "stderr",
          "text": [
            "/usr/local/lib/python3.7/dist-packages/sklearn/utils/deprecation.py:87: FutureWarning: Function safe_indexing is deprecated; safe_indexing is deprecated in version 0.22 and will be removed in version 0.24.\n",
            "  warnings.warn(msg, category=FutureWarning)\n"
          ]
        },
        {
          "output_type": "stream",
          "name": "stdout",
          "text": [
            "              precision    recall  f1-score   support\n",
            "\n",
            "     ALLERGY       1.00      0.97      0.98      4110\n",
            "        COLD       0.45      1.00      0.62       239\n",
            "       COVID       0.50      0.97      0.66       507\n",
            "         FLU       1.00      0.90      0.95      6258\n",
            "\n",
            "    accuracy                           0.93     11114\n",
            "   macro avg       0.74      0.96      0.80     11114\n",
            "weighted avg       0.97      0.93      0.94     11114\n",
            "\n"
          ]
        }
      ]
    },
    {
      "cell_type": "markdown",
      "metadata": {
        "id": "zHiNp53l77vN"
      },
      "source": [
        "*Observação: O segundo teste, aplicando a abordagem de sampling nos dados de treinamento, apresentou melhores resultados para o emsemble.*\n",
        "\n"
      ]
    }
  ]
}