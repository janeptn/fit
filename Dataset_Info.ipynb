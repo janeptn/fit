{
  "nbformat": 4,
  "nbformat_minor": 0,
  "metadata": {
    "colab": {
      "name": "Dataset_Info.ipynb",
      "provenance": [],
      "authorship_tag": "ABX9TyP/GMGzSOAXBhKupyzC4GjJ"
    },
    "kernelspec": {
      "name": "python3",
      "display_name": "Python 3"
    },
    "language_info": {
      "name": "python"
    }
  },
  "cells": [
    {
      "cell_type": "code",
      "metadata": {
        "id": "gz5BOQqqJ-PC"
      },
      "source": [
        "import pandas as pd"
      ],
      "execution_count": 10,
      "outputs": []
    },
    {
      "cell_type": "code",
      "metadata": {
        "id": "nD54KG4MKPvu"
      },
      "source": [
        "URL = 'https://janeawsdata.s3.us-east-2.amazonaws.com/large_data.csv'\n",
        "df = pd.read_csv(URL)\n"
      ],
      "execution_count": 11,
      "outputs": []
    },
    {
      "cell_type": "markdown",
      "metadata": {
        "id": "LYm2LBE7LXfP"
      },
      "source": [
        "**Dataset COVID, FLU, COLD Symptoms = 44453 objetos**"
      ]
    },
    {
      "cell_type": "code",
      "metadata": {
        "colab": {
          "base_uri": "https://localhost:8080/"
        },
        "id": "7LQNowihKS_t",
        "outputId": "acfd0f85-da16-446d-dd06-72aa5e56f2dd"
      },
      "source": [
        "df.info()"
      ],
      "execution_count": 5,
      "outputs": [
        {
          "output_type": "stream",
          "name": "stdout",
          "text": [
            "<class 'pandas.core.frame.DataFrame'>\n",
            "RangeIndex: 44453 entries, 0 to 44452\n",
            "Data columns (total 21 columns):\n",
            " #   Column                Non-Null Count  Dtype \n",
            "---  ------                --------------  ----- \n",
            " 0   COUGH                 44453 non-null  int64 \n",
            " 1   MUSCLE_ACHES          44453 non-null  int64 \n",
            " 2   TIREDNESS             44453 non-null  int64 \n",
            " 3   SORE_THROAT           44453 non-null  int64 \n",
            " 4   RUNNY_NOSE            44453 non-null  int64 \n",
            " 5   STUFFY_NOSE           44453 non-null  int64 \n",
            " 6   FEVER                 44453 non-null  int64 \n",
            " 7   NAUSEA                44453 non-null  int64 \n",
            " 8   VOMITING              44453 non-null  int64 \n",
            " 9   DIARRHEA              44453 non-null  int64 \n",
            " 10  SHORTNESS_OF_BREATH   44453 non-null  int64 \n",
            " 11  DIFFICULTY_BREATHING  44453 non-null  int64 \n",
            " 12  LOSS_OF_TASTE         44453 non-null  int64 \n",
            " 13  LOSS_OF_SMELL         44453 non-null  int64 \n",
            " 14  ITCHY_NOSE            44453 non-null  int64 \n",
            " 15  ITCHY_EYES            44453 non-null  int64 \n",
            " 16  ITCHY_MOUTH           44453 non-null  int64 \n",
            " 17  ITCHY_INNER_EAR       44453 non-null  int64 \n",
            " 18  SNEEZING              44453 non-null  int64 \n",
            " 19  PINK_EYE              44453 non-null  int64 \n",
            " 20  TYPE                  44453 non-null  object\n",
            "dtypes: int64(20), object(1)\n",
            "memory usage: 7.1+ MB\n"
          ]
        }
      ]
    },
    {
      "cell_type": "markdown",
      "metadata": {
        "id": "CfoKPHWSLC6A"
      },
      "source": [
        "**Features e Target = TYPE**"
      ]
    },
    {
      "cell_type": "code",
      "metadata": {
        "colab": {
          "base_uri": "https://localhost:8080/"
        },
        "id": "qu0VYhmeKY1K",
        "outputId": "53cc969f-590b-4d3c-d7bd-aa634d0a78c5"
      },
      "source": [
        "df.columns"
      ],
      "execution_count": 6,
      "outputs": [
        {
          "output_type": "execute_result",
          "data": {
            "text/plain": [
              "Index(['COUGH', 'MUSCLE_ACHES', 'TIREDNESS', 'SORE_THROAT', 'RUNNY_NOSE',\n",
              "       'STUFFY_NOSE', 'FEVER', 'NAUSEA', 'VOMITING', 'DIARRHEA',\n",
              "       'SHORTNESS_OF_BREATH', 'DIFFICULTY_BREATHING', 'LOSS_OF_TASTE',\n",
              "       'LOSS_OF_SMELL', 'ITCHY_NOSE', 'ITCHY_EYES', 'ITCHY_MOUTH',\n",
              "       'ITCHY_INNER_EAR', 'SNEEZING', 'PINK_EYE', 'TYPE'],\n",
              "      dtype='object')"
            ]
          },
          "metadata": {},
          "execution_count": 6
        }
      ]
    },
    {
      "cell_type": "markdown",
      "metadata": {
        "id": "-nt9m9MBtPPz"
      },
      "source": [
        "**Desvio Padrão e Média - Features**"
      ]
    },
    {
      "cell_type": "code",
      "metadata": {
        "id": "dZ3yPyntl3RG",
        "outputId": "a3d27490-ab18-4efc-8816-7fd887cb269c",
        "colab": {
          "base_uri": "https://localhost:8080/",
          "height": 317
        }
      },
      "source": [
        "df.describe()"
      ],
      "execution_count": 9,
      "outputs": [
        {
          "output_type": "execute_result",
          "data": {
            "text/html": [
              "<div>\n",
              "<style scoped>\n",
              "    .dataframe tbody tr th:only-of-type {\n",
              "        vertical-align: middle;\n",
              "    }\n",
              "\n",
              "    .dataframe tbody tr th {\n",
              "        vertical-align: top;\n",
              "    }\n",
              "\n",
              "    .dataframe thead th {\n",
              "        text-align: right;\n",
              "    }\n",
              "</style>\n",
              "<table border=\"1\" class=\"dataframe\">\n",
              "  <thead>\n",
              "    <tr style=\"text-align: right;\">\n",
              "      <th></th>\n",
              "      <th>COUGH</th>\n",
              "      <th>MUSCLE_ACHES</th>\n",
              "      <th>TIREDNESS</th>\n",
              "      <th>SORE_THROAT</th>\n",
              "      <th>RUNNY_NOSE</th>\n",
              "      <th>STUFFY_NOSE</th>\n",
              "      <th>FEVER</th>\n",
              "      <th>NAUSEA</th>\n",
              "      <th>VOMITING</th>\n",
              "      <th>DIARRHEA</th>\n",
              "      <th>SHORTNESS_OF_BREATH</th>\n",
              "      <th>DIFFICULTY_BREATHING</th>\n",
              "      <th>LOSS_OF_TASTE</th>\n",
              "      <th>LOSS_OF_SMELL</th>\n",
              "      <th>ITCHY_NOSE</th>\n",
              "      <th>ITCHY_EYES</th>\n",
              "      <th>ITCHY_MOUTH</th>\n",
              "      <th>ITCHY_INNER_EAR</th>\n",
              "      <th>SNEEZING</th>\n",
              "      <th>PINK_EYE</th>\n",
              "    </tr>\n",
              "  </thead>\n",
              "  <tbody>\n",
              "    <tr>\n",
              "      <th>count</th>\n",
              "      <td>44453.000000</td>\n",
              "      <td>44453.000000</td>\n",
              "      <td>44453.000000</td>\n",
              "      <td>44453.000000</td>\n",
              "      <td>44453.000000</td>\n",
              "      <td>44453.000000</td>\n",
              "      <td>44453.000000</td>\n",
              "      <td>44453.000000</td>\n",
              "      <td>44453.000000</td>\n",
              "      <td>44453.000000</td>\n",
              "      <td>44453.000000</td>\n",
              "      <td>44453.000000</td>\n",
              "      <td>44453.000000</td>\n",
              "      <td>44453.000000</td>\n",
              "      <td>44453.000000</td>\n",
              "      <td>44453.000000</td>\n",
              "      <td>44453.000000</td>\n",
              "      <td>44453.000000</td>\n",
              "      <td>44453.000000</td>\n",
              "      <td>44453.000000</td>\n",
              "    </tr>\n",
              "    <tr>\n",
              "      <th>mean</th>\n",
              "      <td>0.520662</td>\n",
              "      <td>0.519762</td>\n",
              "      <td>0.519897</td>\n",
              "      <td>0.519358</td>\n",
              "      <td>0.496232</td>\n",
              "      <td>0.495850</td>\n",
              "      <td>0.325400</td>\n",
              "      <td>0.324253</td>\n",
              "      <td>0.324523</td>\n",
              "      <td>0.323465</td>\n",
              "      <td>0.323893</td>\n",
              "      <td>0.324455</td>\n",
              "      <td>0.422986</td>\n",
              "      <td>0.423234</td>\n",
              "      <td>0.184285</td>\n",
              "      <td>0.184285</td>\n",
              "      <td>0.184285</td>\n",
              "      <td>0.184285</td>\n",
              "      <td>0.519313</td>\n",
              "      <td>0.184240</td>\n",
              "    </tr>\n",
              "    <tr>\n",
              "      <th>std</th>\n",
              "      <td>0.499579</td>\n",
              "      <td>0.499615</td>\n",
              "      <td>0.499610</td>\n",
              "      <td>0.499631</td>\n",
              "      <td>0.499991</td>\n",
              "      <td>0.499988</td>\n",
              "      <td>0.468529</td>\n",
              "      <td>0.468100</td>\n",
              "      <td>0.468201</td>\n",
              "      <td>0.467804</td>\n",
              "      <td>0.467965</td>\n",
              "      <td>0.468176</td>\n",
              "      <td>0.494039</td>\n",
              "      <td>0.494077</td>\n",
              "      <td>0.387720</td>\n",
              "      <td>0.387720</td>\n",
              "      <td>0.387720</td>\n",
              "      <td>0.387720</td>\n",
              "      <td>0.499633</td>\n",
              "      <td>0.387684</td>\n",
              "    </tr>\n",
              "    <tr>\n",
              "      <th>min</th>\n",
              "      <td>0.000000</td>\n",
              "      <td>0.000000</td>\n",
              "      <td>0.000000</td>\n",
              "      <td>0.000000</td>\n",
              "      <td>0.000000</td>\n",
              "      <td>0.000000</td>\n",
              "      <td>0.000000</td>\n",
              "      <td>0.000000</td>\n",
              "      <td>0.000000</td>\n",
              "      <td>0.000000</td>\n",
              "      <td>0.000000</td>\n",
              "      <td>0.000000</td>\n",
              "      <td>0.000000</td>\n",
              "      <td>0.000000</td>\n",
              "      <td>0.000000</td>\n",
              "      <td>0.000000</td>\n",
              "      <td>0.000000</td>\n",
              "      <td>0.000000</td>\n",
              "      <td>0.000000</td>\n",
              "      <td>0.000000</td>\n",
              "    </tr>\n",
              "    <tr>\n",
              "      <th>25%</th>\n",
              "      <td>0.000000</td>\n",
              "      <td>0.000000</td>\n",
              "      <td>0.000000</td>\n",
              "      <td>0.000000</td>\n",
              "      <td>0.000000</td>\n",
              "      <td>0.000000</td>\n",
              "      <td>0.000000</td>\n",
              "      <td>0.000000</td>\n",
              "      <td>0.000000</td>\n",
              "      <td>0.000000</td>\n",
              "      <td>0.000000</td>\n",
              "      <td>0.000000</td>\n",
              "      <td>0.000000</td>\n",
              "      <td>0.000000</td>\n",
              "      <td>0.000000</td>\n",
              "      <td>0.000000</td>\n",
              "      <td>0.000000</td>\n",
              "      <td>0.000000</td>\n",
              "      <td>0.000000</td>\n",
              "      <td>0.000000</td>\n",
              "    </tr>\n",
              "    <tr>\n",
              "      <th>50%</th>\n",
              "      <td>1.000000</td>\n",
              "      <td>1.000000</td>\n",
              "      <td>1.000000</td>\n",
              "      <td>1.000000</td>\n",
              "      <td>0.000000</td>\n",
              "      <td>0.000000</td>\n",
              "      <td>0.000000</td>\n",
              "      <td>0.000000</td>\n",
              "      <td>0.000000</td>\n",
              "      <td>0.000000</td>\n",
              "      <td>0.000000</td>\n",
              "      <td>0.000000</td>\n",
              "      <td>0.000000</td>\n",
              "      <td>0.000000</td>\n",
              "      <td>0.000000</td>\n",
              "      <td>0.000000</td>\n",
              "      <td>0.000000</td>\n",
              "      <td>0.000000</td>\n",
              "      <td>1.000000</td>\n",
              "      <td>0.000000</td>\n",
              "    </tr>\n",
              "    <tr>\n",
              "      <th>75%</th>\n",
              "      <td>1.000000</td>\n",
              "      <td>1.000000</td>\n",
              "      <td>1.000000</td>\n",
              "      <td>1.000000</td>\n",
              "      <td>1.000000</td>\n",
              "      <td>1.000000</td>\n",
              "      <td>1.000000</td>\n",
              "      <td>1.000000</td>\n",
              "      <td>1.000000</td>\n",
              "      <td>1.000000</td>\n",
              "      <td>1.000000</td>\n",
              "      <td>1.000000</td>\n",
              "      <td>1.000000</td>\n",
              "      <td>1.000000</td>\n",
              "      <td>0.000000</td>\n",
              "      <td>0.000000</td>\n",
              "      <td>0.000000</td>\n",
              "      <td>0.000000</td>\n",
              "      <td>1.000000</td>\n",
              "      <td>0.000000</td>\n",
              "    </tr>\n",
              "    <tr>\n",
              "      <th>max</th>\n",
              "      <td>1.000000</td>\n",
              "      <td>1.000000</td>\n",
              "      <td>1.000000</td>\n",
              "      <td>1.000000</td>\n",
              "      <td>1.000000</td>\n",
              "      <td>1.000000</td>\n",
              "      <td>1.000000</td>\n",
              "      <td>1.000000</td>\n",
              "      <td>1.000000</td>\n",
              "      <td>1.000000</td>\n",
              "      <td>1.000000</td>\n",
              "      <td>1.000000</td>\n",
              "      <td>1.000000</td>\n",
              "      <td>1.000000</td>\n",
              "      <td>1.000000</td>\n",
              "      <td>1.000000</td>\n",
              "      <td>1.000000</td>\n",
              "      <td>1.000000</td>\n",
              "      <td>1.000000</td>\n",
              "      <td>1.000000</td>\n",
              "    </tr>\n",
              "  </tbody>\n",
              "</table>\n",
              "</div>"
            ],
            "text/plain": [
              "              COUGH  MUSCLE_ACHES  ...      SNEEZING      PINK_EYE\n",
              "count  44453.000000  44453.000000  ...  44453.000000  44453.000000\n",
              "mean       0.520662      0.519762  ...      0.519313      0.184240\n",
              "std        0.499579      0.499615  ...      0.499633      0.387684\n",
              "min        0.000000      0.000000  ...      0.000000      0.000000\n",
              "25%        0.000000      0.000000  ...      0.000000      0.000000\n",
              "50%        1.000000      1.000000  ...      1.000000      0.000000\n",
              "75%        1.000000      1.000000  ...      1.000000      0.000000\n",
              "max        1.000000      1.000000  ...      1.000000      1.000000\n",
              "\n",
              "[8 rows x 20 columns]"
            ]
          },
          "metadata": {},
          "execution_count": 9
        }
      ]
    },
    {
      "cell_type": "markdown",
      "metadata": {
        "id": "U1XiNtFfK9kj"
      },
      "source": [
        "**Features Desbalanceadas**"
      ]
    },
    {
      "cell_type": "code",
      "metadata": {
        "id": "X6EKQMWVrwPm",
        "outputId": "264a1fd0-c08f-4c1a-ace5-81b9c28d7c3d",
        "colab": {
          "base_uri": "https://localhost:8080/",
          "height": 401
        }
      },
      "source": [
        "features = df.TYPE.value_counts()\n",
        "print(features)\n",
        "features.plot(kind='bar', title='Count (features)');"
      ],
      "execution_count": 19,
      "outputs": [
        {
          "output_type": "stream",
          "name": "stdout",
          "text": [
            "FLU        25000\n",
            "ALLERGY    16381\n",
            "COVID       2048\n",
            "COLD        1024\n",
            "Name: TYPE, dtype: int64\n"
          ]
        },
        {
          "output_type": "display_data",
          "data": {
            "image/png": "[encoded data removed]",
            "text/plain": [
              "<Figure size 432x288 with 1 Axes>"
            ]
          },
          "metadata": {
            "needs_background": "light"
          }
        }
      ]
    }
  ]
}