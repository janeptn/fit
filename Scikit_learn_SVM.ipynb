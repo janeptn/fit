{
  "nbformat": 4,
  "nbformat_minor": 0,
  "metadata": {
    "colab": {
      "name": "Scikit-learn - SVM.ipynb",
      "provenance": [],
      "authorship_tag": "ABX9TyOZ6M2FhSZvVWQp8IIqlyqy"
    },
    "kernelspec": {
      "name": "python3",
      "display_name": "Python 3"
    },
    "language_info": {
      "name": "python"
    }
  },
  "cells": [
    {
      "cell_type": "markdown",
      "metadata": {
        "id": "ADXeGTh8lDOr"
      },
      "source": [
        "**Bibliotecas utilizadas**"
      ]
    },
    {
      "cell_type": "code",
      "metadata": {
        "id": "dnHN07oWKxgQ"
      },
      "source": [
        "import pandas as pd\n",
        "from sklearn import svm #Support vector machines\n",
        "from sklearn.model_selection import train_test_split\n",
        "from sklearn.metrics import classification_report"
      ],
      "execution_count": 52,
      "outputs": []
    },
    {
      "cell_type": "markdown",
      "metadata": {
        "id": "9so8ErtplHgJ"
      },
      "source": [
        "**Criando Dataframe da base - COVID, FLU, COLD Symptoms**"
      ]
    },
    {
      "cell_type": "code",
      "metadata": {
        "id": "Y6zUSMg1THEY"
      },
      "source": [
        "URL = 'https://janeawsdata.s3.us-east-2.amazonaws.com/large_data.csv'\n",
        "df = pd.read_csv(URL)"
      ],
      "execution_count": 53,
      "outputs": []
    },
    {
      "cell_type": "markdown",
      "metadata": {
        "id": "2LfYfhbklNPY"
      },
      "source": [
        "**Definindo X com conjunto de features e y com o target**"
      ]
    },
    {
      "cell_type": "code",
      "metadata": {
        "id": "pc2rm65YTOiC"
      },
      "source": [
        "X = df.drop('TYPE', axis=1)\n",
        "y = df.TYPE"
      ],
      "execution_count": 54,
      "outputs": []
    },
    {
      "cell_type": "markdown",
      "metadata": {
        "id": "f4o9vcLblWQ3"
      },
      "source": [
        "**Utilizando a função train_test_split para dividir os dados em 75/25 % treino e teste**"
      ]
    },
    {
      "cell_type": "code",
      "metadata": {
        "id": "8I4bfLQuTQxj"
      },
      "source": [
        "X_train, X_test, y_train, y_test = train_test_split(X, y, random_state=3)"
      ],
      "execution_count": 55,
      "outputs": []
    },
    {
      "cell_type": "markdown",
      "metadata": {
        "id": "FQxKJSidllKX"
      },
      "source": [
        "**Aplicando o parâmetro C = 1 (margem) do SVM**"
      ]
    },
    {
      "cell_type": "code",
      "metadata": {
        "id": "awyQIrV9TYpy"
      },
      "source": [
        "C = 1\n",
        "clf = svm.SVC(kernel='linear', C=C)"
      ],
      "execution_count": 56,
      "outputs": []
    },
    {
      "cell_type": "markdown",
      "metadata": {
        "id": "bdHf2Kdkm7bI"
      },
      "source": [
        "**Treinando o classificador com os dados do conjunto de treinamento em x_train e os rótulos em y_train**"
      ]
    },
    {
      "cell_type": "code",
      "metadata": {
        "id": "8vXbrJFyTa40"
      },
      "source": [
        "clf.fit(X_train, y_train)"
      ],
      "execution_count": null,
      "outputs": []
    },
    {
      "cell_type": "markdown",
      "metadata": {
        "id": "5NTMqUE9nGkN"
      },
      "source": [
        "**Testando o classificador com conjunto de testes**"
      ]
    },
    {
      "cell_type": "code",
      "metadata": {
        "id": "pooqKAjpTeBy"
      },
      "source": [
        "clf.predict(X_test)"
      ],
      "execution_count": null,
      "outputs": []
    },
    {
      "cell_type": "code",
      "metadata": {
        "id": "2XnCqOzwehmC"
      },
      "source": [
        "y_pred = clf.predict(X_test)"
      ],
      "execution_count": 59,
      "outputs": []
    },
    {
      "cell_type": "markdown",
      "metadata": {
        "id": "V6OxXyJMnWuD"
      },
      "source": [
        "**Verificando a acurácia do classificador**"
      ]
    },
    {
      "cell_type": "code",
      "metadata": {
        "colab": {
          "base_uri": "https://localhost:8080/"
        },
        "id": "FlW35r1ATmFc",
        "outputId": "33240183-f228-448b-b1eb-c0c1bfcc712d"
      },
      "source": [
        "clf.score(X_test,y_test)"
      ],
      "execution_count": 60,
      "outputs": [
        {
          "output_type": "execute_result",
          "data": {
            "text/plain": [
              "0.9285585747705597"
            ]
          },
          "metadata": {},
          "execution_count": 60
        }
      ]
    },
    {
      "cell_type": "code",
      "metadata": {
        "colab": {
          "base_uri": "https://localhost:8080/"
        },
        "id": "JJt-8IQ8Vkoj",
        "outputId": "386c918e-e218-4a43-8bdf-be935fadd543"
      },
      "source": [
        "print(classification_report(y_test, y_pred, df.TYPE.unique()))"
      ],
      "execution_count": 61,
      "outputs": [
        {
          "output_type": "stream",
          "name": "stdout",
          "text": [
            "              precision    recall  f1-score   support\n",
            "\n",
            "     ALLERGY       1.00      0.97      0.98      4111\n",
            "        COLD       0.44      1.00      0.61       216\n",
            "       COVID       0.48      0.97      0.65       501\n",
            "         FLU       1.00      0.90      0.95      6286\n",
            "\n",
            "    accuracy                           0.93     11114\n",
            "   macro avg       0.73      0.96      0.80     11114\n",
            "weighted avg       0.97      0.93      0.94     11114\n",
            "\n"
          ]
        }
      ]
    }
  ]
}