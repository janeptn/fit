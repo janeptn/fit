{
  "nbformat": 4,
  "nbformat_minor": 0,
  "metadata": {
    "colab": {
      "name": "PyTorch-NN.ipynb",
      "provenance": [],
      "authorship_tag": "ABX9TyMYaf1uCKoqpsoPncOMYrxc"
    },
    "kernelspec": {
      "name": "python3",
      "display_name": "Python 3"
    },
    "language_info": {
      "name": "python"
    }
  },
  "cells": [
    {
      "cell_type": "markdown",
      "metadata": {
        "id": "6YP_BDDQNcEz"
      },
      "source": [
        "**Bibliotecas utilizadas**"
      ]
    },
    {
      "cell_type": "code",
      "metadata": {
        "id": "jRIZF_PQ2BDc"
      },
      "source": [
        "import torch\n",
        "import torch.nn as nn\n",
        "import torch.nn.functional as F\n",
        "import pandas as pd\n",
        "from sklearn.model_selection import train_test_split"
      ],
      "execution_count": 289,
      "outputs": []
    },
    {
      "cell_type": "markdown",
      "metadata": {
        "id": "QLEkWonENhP3"
      },
      "source": [
        "**Criando Dataframe - COVID, FLU, COLD Symptoms**"
      ]
    },
    {
      "cell_type": "code",
      "metadata": {
        "id": "MzOnGlyw7eSS"
      },
      "source": [
        "URL = 'https://janeawsdata.s3.us-east-2.amazonaws.com/large_data.csv'\n",
        "df = pd.read_csv(URL)"
      ],
      "execution_count": 290,
      "outputs": []
    },
    {
      "cell_type": "markdown",
      "metadata": {
        "id": "hFEEMWWRNnSV"
      },
      "source": [
        "**Mapeando as classes para valores numéricos**\n"
      ]
    },
    {
      "cell_type": "code",
      "metadata": {
        "id": "AnY-Tm0x7pBE"
      },
      "source": [
        "mappings = {\n",
        "   'ALLERGY': 0,\n",
        "   'COLD': 1,\n",
        "   'COVID': 2,\n",
        "   'FLU': 3\n",
        "}\n",
        "df['TYPE'] = df['TYPE'].apply(lambda x: mappings[x])"
      ],
      "execution_count": 291,
      "outputs": []
    },
    {
      "cell_type": "markdown",
      "metadata": {
        "id": "HPGyEM2fN7Kz"
      },
      "source": [
        "**Utilizando a função train_test_split para dividir os dados em 80/20 % treino e teste**"
      ]
    },
    {
      "cell_type": "code",
      "metadata": {
        "id": "a2SnAcFv2HP9"
      },
      "source": [
        "X = df.drop('TYPE', axis=1).values\n",
        "y = df['TYPE'].values\n",
        "X_train, X_test, y_train, y_test = train_test_split(X, y, test_size=0.2, random_state=42)\n",
        "\n",
        "# Convertendo os dados para PyTorch tensors\n",
        "X_train = torch.FloatTensor(X_train)\n",
        "X_test = torch.FloatTensor(X_test)\n",
        "y_train = torch.LongTensor(y_train)\n",
        "y_test = torch.LongTensor(y_test)\n"
      ],
      "execution_count": 292,
      "outputs": []
    },
    {
      "cell_type": "markdown",
      "metadata": {
        "id": "hIMpd4HUOWWE"
      },
      "source": [
        "**Definindo a Rede Neural**"
      ]
    },
    {
      "cell_type": "code",
      "metadata": {
        "id": "udWAMf_u2Kru"
      },
      "source": [
        "class ANN(nn.Module):\n",
        "   def __init__(self):\n",
        "       super().__init__()\n",
        "       # 2 camadas escondidas, número de neurônios das camadas foi escolhido de forma arbitrária\n",
        "       self.fc1 = nn.Linear(in_features=20, out_features=40) #Entrada = 20 (features em x)\n",
        "       self.fc2 = nn.Linear(in_features=40, out_features=20)\n",
        "       self.output = nn.Linear(in_features=20, out_features=4) # Saída = 4 (classes)\n",
        " \n",
        "   # função forward que será responsável pela propagação da rede\n",
        "   def forward(self, x):\n",
        "     x = F.relu(self.fc1(x)) # função relu para retornar sempre valores positivos\n",
        "     x = F.relu(self.fc2(x))\n",
        "     x = self.output(x)\n",
        "     return x"
      ],
      "execution_count": 293,
      "outputs": []
    },
    {
      "cell_type": "markdown",
      "metadata": {
        "id": "gBNL_WaRRqBL"
      },
      "source": [
        "**Instânciando o modelo**"
      ]
    },
    {
      "cell_type": "code",
      "metadata": {
        "id": "MhuAFM8s2RG3"
      },
      "source": [
        "model = ANN()"
      ],
      "execution_count": 294,
      "outputs": []
    },
    {
      "cell_type": "code",
      "metadata": {
        "colab": {
          "base_uri": "https://localhost:8080/"
        },
        "id": "QECsce8rU5Oc",
        "outputId": "f81960c5-82b5-4860-ab29-86f235031739"
      },
      "source": [
        "model.output"
      ],
      "execution_count": 295,
      "outputs": [
        {
          "output_type": "execute_result",
          "data": {
            "text/plain": [
              "Linear(in_features=20, out_features=4, bias=True)"
            ]
          },
          "metadata": {},
          "execution_count": 295
        }
      ]
    },
    {
      "cell_type": "markdown",
      "metadata": {
        "id": "o7vevwftR_ki"
      },
      "source": [
        "**Critério - CrossEntropyLoss e Algoritmo de otimização - Adam**\n",
        "\n"
      ]
    },
    {
      "cell_type": "code",
      "metadata": {
        "id": "jRCpya6H2Rn9"
      },
      "source": [
        "criterion = nn.CrossEntropyLoss()\n",
        "optimizer = torch.optim.Adam(model.parameters(), lr=0.01) #taxa de aprendizagem de 0.01"
      ],
      "execution_count": 296,
      "outputs": []
    },
    {
      "cell_type": "markdown",
      "metadata": {
        "id": "rAw74DOdSby4"
      },
      "source": [
        "**Treinamento de modelo - 100 épocas**"
      ]
    },
    {
      "cell_type": "code",
      "metadata": {
        "colab": {
          "base_uri": "https://localhost:8080/"
        },
        "id": "nS3VgTXs2Tfq",
        "outputId": "7453f633-aaf1-48ca-a9cc-db42ffd8a0d6"
      },
      "source": [
        "epochs = 100 \n",
        "loss_arr = []\n",
        "for i in range(epochs):\n",
        "   y_hat = model.forward(X_train)\n",
        "   loss = criterion(y_hat, y_train)\n",
        "   loss_arr.append(loss)\n",
        " \n",
        "   if i % 10 == 0:\n",
        "       print(f'Epocas: {i} Perda: {loss}')\n",
        " \n",
        "   optimizer.zero_grad()\n",
        "   loss.backward()\n",
        "   optimizer.step()"
      ],
      "execution_count": 297,
      "outputs": [
        {
          "output_type": "stream",
          "name": "stdout",
          "text": [
            "Epocas: 0 Perda: 1.3050177097320557\n",
            "Epocas: 10 Perda: 0.42219462990760803\n",
            "Epocas: 20 Perda: 0.2700602412223816\n",
            "Epocas: 30 Perda: 0.23121747374534607\n",
            "Epocas: 40 Perda: 0.1985417604446411\n",
            "Epocas: 50 Perda: 0.1728893518447876\n",
            "Epocas: 60 Perda: 0.15498723089694977\n",
            "Epocas: 70 Perda: 0.13874360918998718\n",
            "Epocas: 80 Perda: 0.1234167292714119\n",
            "Epocas: 90 Perda: 0.11304445564746857\n"
          ]
        }
      ]
    },
    {
      "cell_type": "markdown",
      "metadata": {
        "id": "o9YpJOg7St3e"
      },
      "source": [
        "**Avaliando o modelo**"
      ]
    },
    {
      "cell_type": "code",
      "metadata": {
        "id": "TgRPwnAg2ZoW"
      },
      "source": [
        "preds = []\n",
        "with torch.no_grad():\n",
        "   for val in X_test:\n",
        "       y_hat = model.forward(val)\n",
        "       preds.append(y_hat.argmax().item())"
      ],
      "execution_count": 298,
      "outputs": []
    },
    {
      "cell_type": "code",
      "metadata": {
        "id": "gmKZPkkI2bdE"
      },
      "source": [
        "dfcorrecao = pd.DataFrame({'Y': y_test, 'YHat': preds})\n",
        "dfcorrecao['Correct'] = [1 if corr == pred else 0 for corr, pred in zip(dfcorrecao['Y'], dfcorrecao['YHat'])] #compara o valor de Y com o YHat valor estimado"
      ],
      "execution_count": 268,
      "outputs": []
    },
    {
      "cell_type": "markdown",
      "metadata": {
        "id": "gvWOM9j7TQlC"
      },
      "source": [
        "**Cálculando a precisão**\n"
      ]
    },
    {
      "cell_type": "code",
      "metadata": {
        "colab": {
          "base_uri": "https://localhost:8080/"
        },
        "id": "fWJ7wYx22b2y",
        "outputId": "8202c6ab-b1a2-4011-c4f0-08a9f7dd85be"
      },
      "source": [
        "dfcorrecao['Correct'].sum() / len(dfcorrecao)\n",
        ">>> 1.0"
      ],
      "execution_count": 299,
      "outputs": [
        {
          "output_type": "execute_result",
          "data": {
            "text/plain": [
              "1.0"
            ]
          },
          "metadata": {},
          "execution_count": 299
        }
      ]
    },
    {
      "cell_type": "markdown",
      "metadata": {
        "id": "vxdzSHmolEZb"
      },
      "source": [
        "**Testando**"
      ]
    },
    {
      "cell_type": "code",
      "metadata": {
        "colab": {
          "base_uri": "https://localhost:8080/"
        },
        "id": "gVuAlcTFcRY6",
        "outputId": "633150a3-04d3-457e-8d0d-86c5ec12c00c"
      },
      "source": [
        "valores = [0,0,0,0,1,0,0,0,0,0,0,0,1,1,1,0,1,0,0,1] \n",
        "valores = torch.FloatTensor(valores)\n",
        "\n",
        "predicao = model.forward(valores)\n",
        "print('Classe: ', predicao.argmax().item())"
      ],
      "execution_count": 309,
      "outputs": [
        {
          "output_type": "stream",
          "name": "stdout",
          "text": [
            "Classe:  0\n"
          ]
        }
      ]
    }
  ]
}