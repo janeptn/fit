{
  "nbformat": 4,
  "nbformat_minor": 0,
  "metadata": {
    "colab": {
      "name": "Scikit-learn - KNN.ipynb",
      "provenance": [],
      "authorship_tag": "ABX9TyMeueAvxECuxZyAmBvlSM+d"
    },
    "kernelspec": {
      "name": "python3",
      "display_name": "Python 3"
    },
    "language_info": {
      "name": "python"
    }
  },
  "cells": [
    {
      "cell_type": "markdown",
      "metadata": {
        "id": "Yf922t7Q4CPq"
      },
      "source": [
        "**Bibliotecas utilizadas**\n"
      ]
    },
    {
      "cell_type": "code",
      "metadata": {
        "id": "pk1WoKqHhwEs"
      },
      "source": [
        "import pandas as pd\n",
        "from sklearn.model_selection import train_test_split\n",
        "from sklearn.neighbors import KNeighborsClassifier\n",
        "from sklearn.metrics import classification_report\n"
      ],
      "execution_count": 1,
      "outputs": []
    },
    {
      "cell_type": "markdown",
      "metadata": {
        "id": "hlhSQptz4N8r"
      },
      "source": [
        "**Criando Dataframe - COVID, FLU, COLD Symptoms**"
      ]
    },
    {
      "cell_type": "code",
      "metadata": {
        "id": "_ubMuIpFklf3"
      },
      "source": [
        "URL = 'https://janeawsdata.s3.us-east-2.amazonaws.com/large_data.csv'\n",
        "df = pd.read_csv(URL)"
      ],
      "execution_count": 2,
      "outputs": []
    },
    {
      "cell_type": "markdown",
      "metadata": {
        "id": "Xz7XNJws4pPe"
      },
      "source": [
        "**Classes**"
      ]
    },
    {
      "cell_type": "code",
      "metadata": {
        "colab": {
          "base_uri": "https://localhost:8080/"
        },
        "id": "S-LIeLbEvsy0",
        "outputId": "6da056ee-d4d4-4c0f-e3c4-1905b9172d40"
      },
      "source": [
        "df.TYPE.unique()"
      ],
      "execution_count": 5,
      "outputs": [
        {
          "output_type": "execute_result",
          "data": {
            "text/plain": [
              "array(['ALLERGY', 'COLD', 'COVID', 'FLU'], dtype=object)"
            ]
          },
          "metadata": {},
          "execution_count": 5
        }
      ]
    },
    {
      "cell_type": "markdown",
      "metadata": {
        "id": "RKr4JP-w40UJ"
      },
      "source": [
        "**Definindo X com conjunto de features e y com o target**"
      ]
    },
    {
      "cell_type": "code",
      "metadata": {
        "id": "lHZ7PucIzhH4"
      },
      "source": [
        "X = df.drop('TYPE', axis=1)\n",
        "y = df.TYPE"
      ],
      "execution_count": 6,
      "outputs": []
    },
    {
      "cell_type": "markdown",
      "metadata": {
        "id": "brBE3b2c5iyR"
      },
      "source": [
        "**Utilizando a função train_test_split para dividir os dados em 75/25 % treino e teste**"
      ]
    },
    {
      "cell_type": "code",
      "metadata": {
        "id": "wFpDLLyfz9fw"
      },
      "source": [
        "X_train, X_test, y_train, y_test = train_test_split(X, y, random_state=0)"
      ],
      "execution_count": 7,
      "outputs": []
    },
    {
      "cell_type": "markdown",
      "metadata": {
        "id": "NbvkNFJR6M7f"
      },
      "source": [
        "**Utilizando o classificador KNN com parâmetro número de vizinhos, p = 2 \n",
        "(distância euclideana) e métrica Minkowski**\n"
      ]
    },
    {
      "cell_type": "code",
      "metadata": {
        "id": "haRaUiVQ0tqt"
      },
      "source": [
        "knn = KNeighborsClassifier(n_neighbors = 5, p=2)"
      ],
      "execution_count": 9,
      "outputs": []
    },
    {
      "cell_type": "markdown",
      "metadata": {
        "id": "mejsZsQt521d"
      },
      "source": [
        "**Treinando o classificador com os dados do conjunto de treinamento em X_train e os rótulos em y_train**"
      ]
    },
    {
      "cell_type": "code",
      "metadata": {
        "colab": {
          "base_uri": "https://localhost:8080/"
        },
        "id": "gvsbXls-0vIy",
        "outputId": "526cc114-744e-47e5-bd01-89b732026a87"
      },
      "source": [
        "knn.fit(X_train,y_train)"
      ],
      "execution_count": 10,
      "outputs": [
        {
          "output_type": "execute_result",
          "data": {
            "text/plain": [
              "KNeighborsClassifier(algorithm='auto', leaf_size=30, metric='minkowski',\n",
              "                     metric_params=None, n_jobs=None, n_neighbors=5, p=2,\n",
              "                     weights='uniform')"
            ]
          },
          "metadata": {},
          "execution_count": 10
        }
      ]
    },
    {
      "cell_type": "markdown",
      "metadata": {
        "id": "-jHgQLf_8pJ0"
      },
      "source": [
        "**Verificando a acurácia do classificador**"
      ]
    },
    {
      "cell_type": "code",
      "metadata": {
        "colab": {
          "base_uri": "https://localhost:8080/"
        },
        "id": "KTPPmBOA0yGu",
        "outputId": "92e0706f-90b9-48b1-f043-05bc915d663d"
      },
      "source": [
        "knn.score(X_test,y_test)"
      ],
      "execution_count": 11,
      "outputs": [
        {
          "output_type": "execute_result",
          "data": {
            "text/plain": [
              "0.9119129026453122"
            ]
          },
          "metadata": {},
          "execution_count": 11
        }
      ]
    },
    {
      "cell_type": "code",
      "metadata": {
        "id": "4i2y2OpLBU3d"
      },
      "source": [
        "y_pred = knn.predict(X_test)"
      ],
      "execution_count": 12,
      "outputs": []
    },
    {
      "cell_type": "code",
      "metadata": {
        "colab": {
          "base_uri": "https://localhost:8080/"
        },
        "id": "mnzmDkIZBQU7",
        "outputId": "b371da6e-3c43-4772-dc7b-9c6abd01eaf9"
      },
      "source": [
        "print(classification_report(y_test, y_pred, df.TYPE.unique()))"
      ],
      "execution_count": 13,
      "outputs": [
        {
          "output_type": "stream",
          "name": "stdout",
          "text": [
            "              precision    recall  f1-score   support\n",
            "\n",
            "     ALLERGY       0.97      0.98      0.98      4110\n",
            "        COLD       0.47      0.38      0.42       239\n",
            "       COVID       0.30      0.26      0.28       507\n",
            "         FLU       0.93      0.94      0.93      6258\n",
            "\n",
            "    accuracy                           0.91     11114\n",
            "   macro avg       0.67      0.64      0.65     11114\n",
            "weighted avg       0.91      0.91      0.91     11114\n",
            "\n"
          ]
        }
      ]
    },
    {
      "cell_type": "markdown",
      "metadata": {
        "id": "UryRsnZv9D3l"
      },
      "source": [
        "**Testando o classificador**"
      ]
    },
    {
      "cell_type": "code",
      "metadata": {
        "id": "mQaUNAjM1YYt"
      },
      "source": [
        "doenca_prediction = knn.predict([[1,1,1,1,0,0,1,1,0,1,1,0,0,0,0,0,0,0,0,0]])\n"
      ],
      "execution_count": 14,
      "outputs": []
    },
    {
      "cell_type": "code",
      "metadata": {
        "colab": {
          "base_uri": "https://localhost:8080/"
        },
        "id": "5wuehTCp2Fqc",
        "outputId": "5a6f998a-f22c-430d-9ae1-51cac8c8680e"
      },
      "source": [
        "doenca_prediction"
      ],
      "execution_count": 15,
      "outputs": [
        {
          "output_type": "execute_result",
          "data": {
            "text/plain": [
              "array(['COVID'], dtype=object)"
            ]
          },
          "metadata": {},
          "execution_count": 15
        }
      ]
    },
    {
      "cell_type": "markdown",
      "metadata": {
        "id": "_2S2c2RxlysY"
      },
      "source": [
        ""
      ]
    }
  ]
}