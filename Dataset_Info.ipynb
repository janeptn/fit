{
  "nbformat": 4,
  "nbformat_minor": 0,
  "metadata": {
    "colab": {
      "name": "Dataset_Info.ipynb",
      "provenance": [],
      "authorship_tag": "ABX9TyPpKIQ2QENxRjnRUiISk55p"
    },
    "kernelspec": {
      "name": "python3",
      "display_name": "Python 3"
    },
    "language_info": {
      "name": "python"
    }
  },
  "cells": [
    {
      "cell_type": "code",
      "metadata": {
        "id": "gz5BOQqqJ-PC"
      },
      "source": [
        "import pandas as pd"
      ],
      "execution_count": 1,
      "outputs": []
    },
    {
      "cell_type": "code",
      "metadata": {
        "id": "nD54KG4MKPvu"
      },
      "source": [
        "URL = 'https://janeawsdata.s3.us-east-2.amazonaws.com/large_data.csv'\n",
        "df = pd.read_csv(URL)\n"
      ],
      "execution_count": 5,
      "outputs": []
    },
    {
      "cell_type": "markdown",
      "metadata": {
        "id": "LYm2LBE7LXfP"
      },
      "source": [
        "**Dataset COVID, FLU, COLD Symptoms = 44453 objetos**"
      ]
    },
    {
      "cell_type": "code",
      "metadata": {
        "colab": {
          "base_uri": "https://localhost:8080/"
        },
        "id": "7LQNowihKS_t",
        "outputId": "ad282358-865e-4fbb-d70e-01c5e19f301f"
      },
      "source": [
        "df.info()"
      ],
      "execution_count": 6,
      "outputs": [
        {
          "output_type": "stream",
          "name": "stdout",
          "text": [
            "<class 'pandas.core.frame.DataFrame'>\n",
            "RangeIndex: 44453 entries, 0 to 44452\n",
            "Data columns (total 21 columns):\n",
            " #   Column                Non-Null Count  Dtype \n",
            "---  ------                --------------  ----- \n",
            " 0   COUGH                 44453 non-null  int64 \n",
            " 1   MUSCLE_ACHES          44453 non-null  int64 \n",
            " 2   TIREDNESS             44453 non-null  int64 \n",
            " 3   SORE_THROAT           44453 non-null  int64 \n",
            " 4   RUNNY_NOSE            44453 non-null  int64 \n",
            " 5   STUFFY_NOSE           44453 non-null  int64 \n",
            " 6   FEVER                 44453 non-null  int64 \n",
            " 7   NAUSEA                44453 non-null  int64 \n",
            " 8   VOMITING              44453 non-null  int64 \n",
            " 9   DIARRHEA              44453 non-null  int64 \n",
            " 10  SHORTNESS_OF_BREATH   44453 non-null  int64 \n",
            " 11  DIFFICULTY_BREATHING  44453 non-null  int64 \n",
            " 12  LOSS_OF_TASTE         44453 non-null  int64 \n",
            " 13  LOSS_OF_SMELL         44453 non-null  int64 \n",
            " 14  ITCHY_NOSE            44453 non-null  int64 \n",
            " 15  ITCHY_EYES            44453 non-null  int64 \n",
            " 16  ITCHY_MOUTH           44453 non-null  int64 \n",
            " 17  ITCHY_INNER_EAR       44453 non-null  int64 \n",
            " 18  SNEEZING              44453 non-null  int64 \n",
            " 19  PINK_EYE              44453 non-null  int64 \n",
            " 20  TYPE                  44453 non-null  object\n",
            "dtypes: int64(20), object(1)\n",
            "memory usage: 7.1+ MB\n"
          ]
        }
      ]
    },
    {
      "cell_type": "markdown",
      "metadata": {
        "id": "CfoKPHWSLC6A"
      },
      "source": [
        "**Features e Target = TYPE**"
      ]
    },
    {
      "cell_type": "code",
      "metadata": {
        "colab": {
          "base_uri": "https://localhost:8080/"
        },
        "id": "qu0VYhmeKY1K",
        "outputId": "2d6e2168-a49e-4f62-d9db-d971facf4808"
      },
      "source": [
        "df.columns"
      ],
      "execution_count": 7,
      "outputs": [
        {
          "output_type": "execute_result",
          "data": {
            "text/plain": [
              "Index(['COUGH', 'MUSCLE_ACHES', 'TIREDNESS', 'SORE_THROAT', 'RUNNY_NOSE',\n",
              "       'STUFFY_NOSE', 'FEVER', 'NAUSEA', 'VOMITING', 'DIARRHEA',\n",
              "       'SHORTNESS_OF_BREATH', 'DIFFICULTY_BREATHING', 'LOSS_OF_TASTE',\n",
              "       'LOSS_OF_SMELL', 'ITCHY_NOSE', 'ITCHY_EYES', 'ITCHY_MOUTH',\n",
              "       'ITCHY_INNER_EAR', 'SNEEZING', 'PINK_EYE', 'TYPE'],\n",
              "      dtype='object')"
            ]
          },
          "metadata": {},
          "execution_count": 7
        }
      ]
    },
    {
      "cell_type": "markdown",
      "metadata": {
        "id": "U1XiNtFfK9kj"
      },
      "source": [
        "**Classes Desbalanceadas**"
      ]
    },
    {
      "cell_type": "code",
      "metadata": {
        "colab": {
          "base_uri": "https://localhost:8080/"
        },
        "id": "g3dwlC8rKo18",
        "outputId": "37f92934-7379-47c1-9f0d-650e53c44050"
      },
      "source": [
        "df.TYPE.value_counts()"
      ],
      "execution_count": 8,
      "outputs": [
        {
          "output_type": "execute_result",
          "data": {
            "text/plain": [
              "FLU        25000\n",
              "ALLERGY    16381\n",
              "COVID       2048\n",
              "COLD        1024\n",
              "Name: TYPE, dtype: int64"
            ]
          },
          "metadata": {},
          "execution_count": 8
        }
      ]
    }
  ]
}