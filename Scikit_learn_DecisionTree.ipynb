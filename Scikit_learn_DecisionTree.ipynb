{
  "nbformat": 4,
  "nbformat_minor": 0,
  "metadata": {
    "colab": {
      "name": "Scikit_learn-DecisionTree.ipynb",
      "provenance": [],
      "authorship_tag": "ABX9TyO1HJprVIpCFoqTOSb91P4d"
    },
    "kernelspec": {
      "name": "python3",
      "display_name": "Python 3"
    },
    "language_info": {
      "name": "python"
    }
  },
  "cells": [
    {
      "cell_type": "markdown",
      "metadata": {
        "id": "3xIByB7bYOnf"
      },
      "source": [
        "**Bibliotecas utilizadas**"
      ]
    },
    {
      "cell_type": "code",
      "metadata": {
        "id": "aBDmqOI7W8gI"
      },
      "source": [
        "import pandas as pd\n",
        "from sklearn.tree import DecisionTreeClassifier \n",
        "from sklearn import tree\n",
        "from sklearn.model_selection import train_test_split \n",
        "from sklearn.metrics import classification_report"
      ],
      "execution_count": 88,
      "outputs": []
    },
    {
      "cell_type": "markdown",
      "metadata": {
        "id": "fKW8T_LoYSVA"
      },
      "source": [
        "**Criando Dataframe da base - COVID, FLU, COLD Symptoms**"
      ]
    },
    {
      "cell_type": "code",
      "metadata": {
        "colab": {
          "base_uri": "https://localhost:8080/",
          "height": 224
        },
        "id": "ecnqUSDZXLU6",
        "outputId": "fccb592a-23c3-45e6-f226-0a6b47d454a3"
      },
      "source": [
        "URL = 'https://janeawsdata.s3.us-east-2.amazonaws.com/large_data.csv'\n",
        "df = pd.read_csv(URL)\n",
        "df.head()"
      ],
      "execution_count": 109,
      "outputs": [
        {
          "output_type": "execute_result",
          "data": {
            "text/html": [
              "<div>\n",
              "<style scoped>\n",
              "    .dataframe tbody tr th:only-of-type {\n",
              "        vertical-align: middle;\n",
              "    }\n",
              "\n",
              "    .dataframe tbody tr th {\n",
              "        vertical-align: top;\n",
              "    }\n",
              "\n",
              "    .dataframe thead th {\n",
              "        text-align: right;\n",
              "    }\n",
              "</style>\n",
              "<table border=\"1\" class=\"dataframe\">\n",
              "  <thead>\n",
              "    <tr style=\"text-align: right;\">\n",
              "      <th></th>\n",
              "      <th>COUGH</th>\n",
              "      <th>MUSCLE_ACHES</th>\n",
              "      <th>TIREDNESS</th>\n",
              "      <th>SORE_THROAT</th>\n",
              "      <th>RUNNY_NOSE</th>\n",
              "      <th>STUFFY_NOSE</th>\n",
              "      <th>FEVER</th>\n",
              "      <th>NAUSEA</th>\n",
              "      <th>VOMITING</th>\n",
              "      <th>DIARRHEA</th>\n",
              "      <th>SHORTNESS_OF_BREATH</th>\n",
              "      <th>DIFFICULTY_BREATHING</th>\n",
              "      <th>LOSS_OF_TASTE</th>\n",
              "      <th>LOSS_OF_SMELL</th>\n",
              "      <th>ITCHY_NOSE</th>\n",
              "      <th>ITCHY_EYES</th>\n",
              "      <th>ITCHY_MOUTH</th>\n",
              "      <th>ITCHY_INNER_EAR</th>\n",
              "      <th>SNEEZING</th>\n",
              "      <th>PINK_EYE</th>\n",
              "      <th>TYPE</th>\n",
              "    </tr>\n",
              "  </thead>\n",
              "  <tbody>\n",
              "    <tr>\n",
              "      <th>0</th>\n",
              "      <td>0</td>\n",
              "      <td>0</td>\n",
              "      <td>1</td>\n",
              "      <td>0</td>\n",
              "      <td>1</td>\n",
              "      <td>0</td>\n",
              "      <td>0</td>\n",
              "      <td>0</td>\n",
              "      <td>0</td>\n",
              "      <td>0</td>\n",
              "      <td>0</td>\n",
              "      <td>0</td>\n",
              "      <td>1</td>\n",
              "      <td>0</td>\n",
              "      <td>1</td>\n",
              "      <td>0</td>\n",
              "      <td>0</td>\n",
              "      <td>1</td>\n",
              "      <td>0</td>\n",
              "      <td>1</td>\n",
              "      <td>ALLERGY</td>\n",
              "    </tr>\n",
              "    <tr>\n",
              "      <th>1</th>\n",
              "      <td>0</td>\n",
              "      <td>0</td>\n",
              "      <td>1</td>\n",
              "      <td>0</td>\n",
              "      <td>0</td>\n",
              "      <td>0</td>\n",
              "      <td>0</td>\n",
              "      <td>0</td>\n",
              "      <td>0</td>\n",
              "      <td>0</td>\n",
              "      <td>0</td>\n",
              "      <td>0</td>\n",
              "      <td>1</td>\n",
              "      <td>0</td>\n",
              "      <td>1</td>\n",
              "      <td>0</td>\n",
              "      <td>1</td>\n",
              "      <td>1</td>\n",
              "      <td>1</td>\n",
              "      <td>1</td>\n",
              "      <td>ALLERGY</td>\n",
              "    </tr>\n",
              "    <tr>\n",
              "      <th>2</th>\n",
              "      <td>0</td>\n",
              "      <td>1</td>\n",
              "      <td>1</td>\n",
              "      <td>1</td>\n",
              "      <td>0</td>\n",
              "      <td>0</td>\n",
              "      <td>0</td>\n",
              "      <td>0</td>\n",
              "      <td>0</td>\n",
              "      <td>0</td>\n",
              "      <td>0</td>\n",
              "      <td>0</td>\n",
              "      <td>1</td>\n",
              "      <td>0</td>\n",
              "      <td>1</td>\n",
              "      <td>0</td>\n",
              "      <td>0</td>\n",
              "      <td>0</td>\n",
              "      <td>0</td>\n",
              "      <td>1</td>\n",
              "      <td>ALLERGY</td>\n",
              "    </tr>\n",
              "    <tr>\n",
              "      <th>3</th>\n",
              "      <td>0</td>\n",
              "      <td>0</td>\n",
              "      <td>0</td>\n",
              "      <td>1</td>\n",
              "      <td>1</td>\n",
              "      <td>0</td>\n",
              "      <td>0</td>\n",
              "      <td>0</td>\n",
              "      <td>0</td>\n",
              "      <td>0</td>\n",
              "      <td>0</td>\n",
              "      <td>0</td>\n",
              "      <td>1</td>\n",
              "      <td>1</td>\n",
              "      <td>0</td>\n",
              "      <td>0</td>\n",
              "      <td>1</td>\n",
              "      <td>0</td>\n",
              "      <td>1</td>\n",
              "      <td>1</td>\n",
              "      <td>ALLERGY</td>\n",
              "    </tr>\n",
              "    <tr>\n",
              "      <th>4</th>\n",
              "      <td>0</td>\n",
              "      <td>0</td>\n",
              "      <td>1</td>\n",
              "      <td>0</td>\n",
              "      <td>1</td>\n",
              "      <td>0</td>\n",
              "      <td>0</td>\n",
              "      <td>0</td>\n",
              "      <td>0</td>\n",
              "      <td>0</td>\n",
              "      <td>0</td>\n",
              "      <td>0</td>\n",
              "      <td>1</td>\n",
              "      <td>1</td>\n",
              "      <td>0</td>\n",
              "      <td>1</td>\n",
              "      <td>0</td>\n",
              "      <td>1</td>\n",
              "      <td>1</td>\n",
              "      <td>1</td>\n",
              "      <td>ALLERGY</td>\n",
              "    </tr>\n",
              "  </tbody>\n",
              "</table>\n",
              "</div>"
            ],
            "text/plain": [
              "   COUGH  MUSCLE_ACHES  TIREDNESS  ...  SNEEZING  PINK_EYE     TYPE\n",
              "0      0             0          1  ...         0         1  ALLERGY\n",
              "1      0             0          1  ...         1         1  ALLERGY\n",
              "2      0             1          1  ...         0         1  ALLERGY\n",
              "3      0             0          0  ...         1         1  ALLERGY\n",
              "4      0             0          1  ...         1         1  ALLERGY\n",
              "\n",
              "[5 rows x 21 columns]"
            ]
          },
          "metadata": {},
          "execution_count": 109
        }
      ]
    },
    {
      "cell_type": "markdown",
      "metadata": {
        "id": "pO-KWzM3YWZy"
      },
      "source": [
        "**Definindo x com conjunto de features e y com o target**"
      ]
    },
    {
      "cell_type": "code",
      "metadata": {
        "id": "rtzy_pIDXNni"
      },
      "source": [
        "x = df.drop('TYPE', axis=1)\n",
        "y = df.TYPE"
      ],
      "execution_count": 110,
      "outputs": []
    },
    {
      "cell_type": "markdown",
      "metadata": {
        "id": "IiXMhOI9Yexw"
      },
      "source": [
        "**Utilizando a função train_test_split para dividir os dados em 75/25 % treino e teste**"
      ]
    },
    {
      "cell_type": "code",
      "metadata": {
        "id": "pCKou-mAXSdL"
      },
      "source": [
        "x_train, x_test, y_train, y_test = train_test_split(x, y, random_state=0)"
      ],
      "execution_count": 132,
      "outputs": []
    },
    {
      "cell_type": "markdown",
      "metadata": {
        "id": "tQq3fp_QZky0"
      },
      "source": [
        "**Treinando o classificador DecisionTree**\n",
        "\n"
      ]
    },
    {
      "cell_type": "code",
      "metadata": {
        "id": "ubkUmgnMXXx9"
      },
      "source": [
        "dtc = DecisionTreeClassifier(max_depth = 15) # profundidade máxima da árvore apresentou melhor acurácia\n",
        "\n",
        "dtc = dtc.fit(x_train,y_train)"
      ],
      "execution_count": 200,
      "outputs": []
    },
    {
      "cell_type": "code",
      "metadata": {
        "id": "-qIvcFmcX-eW"
      },
      "source": [
        "y_pred = dtc.predict(x_test)"
      ],
      "execution_count": 201,
      "outputs": []
    },
    {
      "cell_type": "markdown",
      "metadata": {
        "id": "Qh4SSUO0ayIa"
      },
      "source": [
        "**Testando o classificador**"
      ]
    },
    {
      "cell_type": "code",
      "metadata": {
        "colab": {
          "base_uri": "https://localhost:8080/"
        },
        "id": "q-yUittQaoZg",
        "outputId": "a88e4040-d79b-4d35-9ca3-bf1cb485d331"
      },
      "source": [
        "doenca_prediction = dtc.predict([[1,1,0,0,0,1,0,0,0,0,0,0,1,0,0,0,0,0,0,0]])\n",
        "\n",
        "doenca_prediction"
      ],
      "execution_count": 206,
      "outputs": [
        {
          "output_type": "execute_result",
          "data": {
            "text/plain": [
              "array(['COLD'], dtype=object)"
            ]
          },
          "metadata": {},
          "execution_count": 206
        }
      ]
    },
    {
      "cell_type": "markdown",
      "metadata": {
        "id": "6xqr4x_CaOes"
      },
      "source": [
        "**Verificando a acurácia do classificador**"
      ]
    },
    {
      "cell_type": "code",
      "metadata": {
        "colab": {
          "base_uri": "https://localhost:8080/"
        },
        "id": "B8nFg-5MXq1v",
        "outputId": "9cf62c93-73ab-4a98-b064-c530c96dd511"
      },
      "source": [
        "dtc.score(x_test,y_test)"
      ],
      "execution_count": 203,
      "outputs": [
        {
          "output_type": "execute_result",
          "data": {
            "text/plain": [
              "0.918301241677164"
            ]
          },
          "metadata": {},
          "execution_count": 203
        }
      ]
    },
    {
      "cell_type": "code",
      "metadata": {
        "colab": {
          "base_uri": "https://localhost:8080/"
        },
        "id": "P_h89hYYf3jC",
        "outputId": "733f5726-cbaa-40a8-ee0e-062198ce6421"
      },
      "source": [
        "print(classification_report(y_test, y_pred, df.TYPE.unique()))"
      ],
      "execution_count": 204,
      "outputs": [
        {
          "output_type": "stream",
          "name": "stdout",
          "text": [
            "              precision    recall  f1-score   support\n",
            "\n",
            "     ALLERGY       0.98      0.98      0.98      4110\n",
            "        COLD       0.48      0.59      0.53       239\n",
            "       COVID       0.38      0.42      0.40       507\n",
            "         FLU       0.95      0.93      0.94      6258\n",
            "\n",
            "    accuracy                           0.92     11114\n",
            "   macro avg       0.70      0.73      0.71     11114\n",
            "weighted avg       0.92      0.92      0.92     11114\n",
            "\n"
          ]
        }
      ]
    }
  ]
}